{
 "cells": [
  {
   "cell_type": "code",
   "execution_count": 1,
   "metadata": {},
   "outputs": [],
   "source": [
    "from sklearn import preprocessing\n",
    "\n",
    "#creating labelEncoder\n",
    "le = preprocessing.LabelEncoder()\n",
    "# Converting string labels into numbers.\n",
    "\n",
    "from sklearn.naive_bayes import GaussianNB\n"
   ]
  },
  {
   "cell_type": "code",
   "execution_count": 2,
   "metadata": {},
   "outputs": [],
   "source": [
    "color=['red','red','red','yellow','yellow','yellow','yellow','yellow','red','red']\n",
    "type = ['sports','sports','sports','sports','sports','suv','suv','suv','suv','sports']\n",
    "origin=['domestic','domestic','domestic','domestic','imported','imported','imported','domestic','imported','imported']\n",
    "stolen=['yes','no','yes','no','yes','no','yes','no','no','yes']"
   ]
  },
  {
   "cell_type": "code",
   "execution_count": 4,
   "metadata": {},
   "outputs": [
    {
     "name": "stdout",
     "output_type": "stream",
     "text": [
      "color: [0 0 0 1 1 1 1 1 0 0]\n",
      "type:  [0 0 0 0 0 1 1 1 1 0]\n",
      "origin:  [0 0 0 0 1 1 1 0 1 1]\n",
      "Play: [1 0 1 0 1 0 1 0 0 1]\n"
     ]
    }
   ],
   "source": [
    "color_encoded=le.fit_transform(color)\n",
    "type_encoded=le.fit_transform(type)\n",
    "origin_encoded=le.fit_transform(origin)\n",
    "label=le.fit_transform(stolen)\n",
    "print (\"color:\",color_encoded);\n",
    "print(\"type: \",type_encoded);\n",
    "print(\"origin: \",origin_encoded);\n",
    "print (\"Play:\",label);"
   ]
  },
  {
   "cell_type": "code",
   "execution_count": 7,
   "metadata": {},
   "outputs": [
    {
     "name": "stdout",
     "output_type": "stream",
     "text": [
      "car stolen : ['yes']\n"
     ]
    }
   ],
   "source": [
    "from sklearn.naive_bayes import GaussianNB\n",
    "\n",
    "#Create a Gaussian Classifierda\n",
    "data=list(zip(color_encoded,type_encoded,origin_encoded))\n",
    "model = GaussianNB()\n",
    "\n",
    "# Train the model using the training sets\n",
    "model.fit(data,label)\n",
    "\n",
    "\n",
    "#Predict Output\n",
    "predicted= model.predict([[0,0,0]])\n",
    "\n",
    "ANS=le.inverse_transform(predicted)\n",
    "print(\"car stolen :\",ANS);"
   ]
  },
  {
   "cell_type": "code",
   "execution_count": null,
   "metadata": {},
   "outputs": [],
   "source": []
  },
  {
   "cell_type": "code",
   "execution_count": null,
   "metadata": {},
   "outputs": [],
   "source": []
  }
 ],
 "metadata": {
  "kernelspec": {
   "display_name": "Python 3",
   "language": "python",
   "name": "python3"
  },
  "language_info": {
   "codemirror_mode": {
    "name": "ipython",
    "version": 3
   },
   "file_extension": ".py",
   "mimetype": "text/x-python",
   "name": "python",
   "nbconvert_exporter": "python",
   "pygments_lexer": "ipython3",
   "version": "3.7.1"
  }
 },
 "nbformat": 4,
 "nbformat_minor": 2
}
